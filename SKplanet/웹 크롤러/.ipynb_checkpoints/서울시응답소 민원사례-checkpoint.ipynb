{
 "cells": [
  {
   "cell_type": "code",
   "execution_count": 2,
   "id": "a48a2ed9",
   "metadata": {},
   "outputs": [],
   "source": [
    "# 서울시 응답소 - 민원사례 게시판 크롤링\n",
    "# https://eungdapso.seoul.go.kr/\n",
    "\n",
    "# Step 1. 필요한 모듈 및 라이브러리 설치\n",
    "\n",
    "from bs4 import BeautifulSoup\n",
    "from selenium import webdriver\n",
    "from selenium.webdriver.chrome.service import Service\n",
    "from webdriver_manager.chrome import ChromeDriverManager\n",
    "import time\n",
    "import sys\n",
    "import re\n",
    "import math\n",
    "import pandas as pd\n",
    "import xlwt\n",
    "\n",
    "import random\n",
    "import os"
   ]
  },
  {
   "cell_type": "code",
   "execution_count": 3,
   "id": "fdd2b0ac",
   "metadata": {},
   "outputs": [
    {
     "name": "stdout",
     "output_type": "stream",
     "text": [
      "================================================================================\n",
      "서울시 응답소 게시판 크롤링하기\n",
      "================================================================================\n",
      "1. 크롤링 할 건 수는 몇 건 입니까?: 30\n",
      "2. 결과 파일을 저장할 폴더명만 쓰세요(예:c:\\temp\\):c:\\temp\\\n"
     ]
    }
   ],
   "source": [
    "# Step 2. 사용자에게 크롤링 정보 입력 받기\n",
    "\n",
    "print(\"=\" *80)\n",
    "print(\"서울시 응답소 민원사례 크롤링하기\")\n",
    "print(\"=\" *80)\n",
    "\n",
    "query_txt = '서울시응답소 민원사례'\n",
    "\n",
    "cnt = int(input('1. 크롤링 할 건 수는 몇 건 입니까?: '))\n",
    "page_cnt = math.ceil(cnt / 10)\n",
    "\n",
    "f_dir = input(\"2. 결과 파일을 저장할 폴더명만 쓰세요(예:c:\\\\temp\\\\):\")\n",
    "\n",
    "# 저장될 파일위치와 이름을 지정\n",
    "now = time.localtime()\n",
    "s = '%04d-%02d-%02d-%02d-%02d-%02d' % (now.tm_year, now.tm_mon, now.tm_mday, now.tm_hour, now.tm_min, now.tm_sec)\n",
    "\n",
    "os.makedirs(f_dir+s+'-'+query_txt)\n",
    "os.chdir(f_dir+s+'-'+query_txt)\n",
    "\n",
    "ff_name = f_dir+s+'-'+query_txt+'\\\\'+s+'-'+query_txt+'.txt'\n",
    "fc_name = f_dir+s+'-'+query_txt+'\\\\'+s+'-'+query_txt+'.csv'\n",
    "fx_name = f_dir+s+'-'+query_txt+'\\\\'+s+'-'+query_txt+'.xls'"
   ]
  },
  {
   "cell_type": "code",
   "execution_count": 4,
   "id": "75d9442c",
   "metadata": {},
   "outputs": [
    {
     "name": "stderr",
     "output_type": "stream",
     "text": [
      "\n",
      "\n",
      "====== WebDriver manager ======\n",
      "Current google-chrome version is 98.0.4758\n",
      "Get LATEST chromedriver version for 98.0.4758 google-chrome\n",
      "Trying to download new driver from https://chromedriver.storage.googleapis.com/98.0.4758.102/chromedriver_win32.zip\n",
      "Driver has been saved in cache [C:\\Users\\7138y\\.wdm\\drivers\\chromedriver\\win32\\98.0.4758.102]\n",
      "C:\\Users\\7138y\\AppData\\Local\\Temp\\ipykernel_13952\\386855375.py:6: DeprecationWarning: executable_path has been deprecated, please pass in a Service object\n",
      "  driver = webdriver.Chrome(ChromeDriverManager().install())\n",
      "C:\\Users\\7138y\\AppData\\Local\\Temp\\ipykernel_13952\\386855375.py:15: DeprecationWarning: find_element_by_xpath is deprecated. Please use find_element(by=By.XPATH, value=xpath) instead\n",
      "  driver.find_element_by_xpath('''/html/body/div[2]/div[5]/div[3]/a/img''').click()\n"
     ]
    }
   ],
   "source": [
    "# Step 3. 크롬 드라이버를 사용해서 웹 브라우저를 실행\n",
    "\n",
    "s_time = time.time()\n",
    "\n",
    "path = \"C:\\Temp\\chromedriver_win32\\chromedriver.exe\"\n",
    "driver = webdriver.Chrome(ChromeDriverManager().install())\n",
    "\n",
    "driver.get('https://eungdapso.seoul.go.kr/')\n",
    "driver.maximize_window()\n",
    "\n",
    "time.sleep(random.randrange(2, 5))\n",
    "\n",
    "# Step 4. 민원사례 더보기 선택\n",
    "\n",
    "driver.find_element_by_xpath('''/html/body/div[2]/div[5]/div[3]/a/img''').click()\n",
    "time.sleep(3)"
   ]
  },
  {
   "cell_type": "code",
   "execution_count": 6,
   "id": "37672ea7",
   "metadata": {},
   "outputs": [
    {
     "name": "stdout",
     "output_type": "stream",
     "text": [
      "\n",
      "\n",
      "크롤링 할 총 페이지 번호:  3\n",
      "================================================================================\n"
     ]
    }
   ],
   "source": [
    "# 타임스탬프\n",
    "now1 = time.localtime()\n",
    "s1 = '%04d-%02d-%02d-%02d-%02d-%02d' % (now1.tm_year, now1.tm_mon, now1.tm_mday, now1.tm_hour, now1.tm_min, now1.tm_sec)\n",
    "\n",
    "print(\"\\n\")\n",
    "page_cnt = math.ceil(cnt / 10)\n",
    "print(\"크롤링 할 총 페이지 번호: \", page_cnt)\n",
    "print(\"=\" *80)"
   ]
  },
  {
   "cell_type": "code",
   "execution_count": null,
   "id": "57c65b85",
   "metadata": {},
   "outputs": [],
   "source": [
    "# Step 5. 게시글 요약 정보 출력\n",
    "\n",
    "html = driver.page_source\n",
    "soup = BeautifulSoup(html, 'html.parser')\n",
    "\n",
    "result_list = soup.find('div', class_='pclist_table').find_all('div', 'pclist_box')\n",
    "\n",
    "no2 = []\n",
    "title2 = []\n",
    "hdate2 = []\n",
    "bunya2 = []\n",
    "view2 = []\n",
    "\n",
    "# 시뮬레이션_1 :\n",
    "\n",
    "for i in :\n",
    "    \n",
    "    # 게시글 번호\n",
    "    no = i.find('li', 'pclist_listno1').get_text().strip()"
   ]
  }
 ],
 "metadata": {
  "kernelspec": {
   "display_name": "Python 3 (ipykernel)",
   "language": "python",
   "name": "python3"
  },
  "language_info": {
   "codemirror_mode": {
    "name": "ipython",
    "version": 3
   },
   "file_extension": ".py",
   "mimetype": "text/x-python",
   "name": "python",
   "nbconvert_exporter": "python",
   "pygments_lexer": "ipython3",
   "version": "3.10.2"
  }
 },
 "nbformat": 4,
 "nbformat_minor": 5
}
