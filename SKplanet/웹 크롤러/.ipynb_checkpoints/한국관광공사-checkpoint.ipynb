{
 "cells": [
  {
   "cell_type": "code",
   "execution_count": 18,
   "id": "bfb49bce",
   "metadata": {},
   "outputs": [],
   "source": [
    "# example 한국관광공사의 대한민국 구석구석 크롤링\n",
    "# https://korean.visitkorea.or.kr/main/main.html\n",
    "\n",
    "# Step 1. Load module & lib for example\n",
    "\n",
    "from bs4 import BeautifulSoup\n",
    "from selenium import webdriver\n",
    "from selenium.webdriver.chrome.service import Service\n",
    "from webdriver_manager.chrome import ChromeDriverManager\n",
    "import time\n",
    "import sys\n",
    "import re\n",
    "import math\n",
    "import numpy\n",
    "import pandas as pd\n",
    "import xlwt\n",
    "\n",
    "import random\n",
    "import os"
   ]
  },
  {
   "cell_type": "code",
   "execution_count": 27,
   "id": "638c095f",
   "metadata": {},
   "outputs": [
    {
     "name": "stdout",
     "output_type": "stream",
     "text": [
      "================================================================================\n",
      "대한민국 구석구석 사이트의 모든 여행지 정보 수집\n",
      "================================================================================\n",
      "1. 크롤링 할 건 수는 몇 건 입니까?: 20\n",
      "2. 결과 파일을 저장할 폴더명만 쓰세요.(예:c:\\temp\\):C:\\Temp\\\n"
     ]
    }
   ],
   "source": [
    "# Step 2. 사용자에게 검색어 키워드 입력 받기\n",
    "\n",
    "print(\"=\" *80)\n",
    "print(\"대한민국 구석구석 사이트의 모든 여행지 정보 수집\")\n",
    "print(\"=\" *80)\n",
    "\n",
    "query_txt = '대한민국구석구석'\n",
    "\n",
    "cnt = int(input('1. 크롤링 할 건 수는 몇 건 입니까?: '))\n",
    "page_cnt = math.ceil(cnt / 10)\n",
    "# page_dcnt : 크롤링 할 전체 페이지 수\n",
    "# Ceil : 주어진 숫자보다 큰 정수를 추출. ex) 3.5 → 4\n",
    "\n",
    "# 소주제 1: 현재 크롤링 시점의 날짜로 폴더 이름 자동 생성\n",
    "\n",
    "f_dir = input('2. 결과 파일을 저장할 폴더명만 쓰세요.(예:c:\\\\temp\\\\):')\n",
    "\n",
    "# 저장될 파일위치와 이름 지정\n",
    "now = time.localtime()\n",
    "s = '%04d-%02d-%02d-%02d-%02d-%02d' % (now.tm_year, now.tm_mon, now.tm_mday, now.tm_hour, now.tm_min, now.tm_sec)\n",
    "\n",
    "os.makedirs(f_dir+s+'-'+query_txt)\n",
    "os.chdir(f_dir+s+'-'+query_txt)\n",
    "\n",
    "ff_name = f_dir+s+'-'+query_txt+'\\\\'+s+'-'+query_txt+'.txt'\n",
    "fc_name = f_dir+s+'-'+query_txt+'\\\\'+s+'-'+query_txt+'.csv'\n",
    "fx_name = f_dir+s+'-'+query_txt+'\\\\'+s+'-'+query_txt+'.xls'"
   ]
  },
  {
   "cell_type": "code",
   "execution_count": 85,
   "id": "f2011a33",
   "metadata": {},
   "outputs": [
    {
     "name": "stderr",
     "output_type": "stream",
     "text": [
      "\n",
      "\n",
      "====== WebDriver manager ======\n",
      "Current google-chrome version is 98.0.4758\n",
      "Get LATEST chromedriver version for 98.0.4758 google-chrome\n",
      "Trying to download new driver from https://chromedriver.storage.googleapis.com/98.0.4758.102/chromedriver_win32.zip\n",
      "Driver has been saved in cache [C:\\Users\\7138y\\.wdm\\drivers\\chromedriver\\win32\\98.0.4758.102]\n",
      "C:\\Users\\7138y\\AppData\\Local\\Temp\\ipykernel_12436\\4211499365.py:7: DeprecationWarning: executable_path has been deprecated, please pass in a Service object\n",
      "  driver = webdriver.Chrome(ChromeDriverManager().install())\n",
      "C:\\Users\\7138y\\AppData\\Local\\Temp\\ipykernel_12436\\4211499365.py:16: DeprecationWarning: find_element_by_xpath is deprecated. Please use find_element(by=By.XPATH, value=xpath) instead\n",
      "  driver.find_element_by_xpath('''/html/body/header/div[1]/div[1]/div/div[1]/span/button''').click() # 메뉴\n",
      "C:\\Users\\7138y\\AppData\\Local\\Temp\\ipykernel_12436\\4211499365.py:17: DeprecationWarning: find_element_by_xpath is deprecated. Please use find_element(by=By.XPATH, value=xpath) instead\n",
      "  driver.find_element_by_xpath('''/html/body/header/div[1]/div[1]/div/div[1]/div/ul/li[2]/ul/li[1]/a''').click() # 인기\n",
      "C:\\Users\\7138y\\AppData\\Local\\Temp\\ipykernel_12436\\4211499365.py:20: DeprecationWarning: find_element_by_xpath is deprecated. Please use find_element(by=By.XPATH, value=xpath) instead\n",
      "  driver.find_element_by_xpath('''/html/body/div[3]/div[1]/div[2]/div/ul/li[2]/a''').click() # 여행지\n"
     ]
    }
   ],
   "source": [
    "# Step 3. 크롬 드라이버를 사용해서 웹 브라우저 실행\n",
    "\n",
    "s_time = time.time()\n",
    "\n",
    "path = \"C:\\Temp\\chromedriver_win32\\chromedriver.exe\"\n",
    "# driver = webdriver.Chrome(path) # chrome driver error → install chrome driver manager\n",
    "driver = webdriver.Chrome(ChromeDriverManager().install())\n",
    "\n",
    "driver.get('https://korean.visitkorea.or.kr/main/main.html')\n",
    "driver.maximize_window() # chrome 창 최대화\n",
    "\n",
    "time.sleep(random.randrange(2,5)) # 2 ~ 5 초 사이에 랜덤으로 시간 선택\n",
    "\n",
    "# Step 4. 모든 여행지 링크 선택\n",
    "\n",
    "driver.find_element_by_xpath('''/html/body/header/div[1]/div[1]/div/div[1]/span/button''').click() # 메뉴\n",
    "driver.find_element_by_xpath('''/html/body/header/div[1]/div[1]/div/div[1]/div/ul/li[2]/ul/li[1]/a''').click() # 인기\n",
    "time.sleep(3)\n",
    "\n",
    "driver.find_element_by_xpath('''/html/body/div[3]/div[1]/div[2]/div/ul/li[2]/a''').click() # 여행지\n"
   ]
  },
  {
   "cell_type": "code",
   "execution_count": 87,
   "id": "a64ccfdf",
   "metadata": {},
   "outputs": [
    {
     "name": "stdout",
     "output_type": "stream",
     "text": [
      "전체 검색 결과 건수: 31540 건\n",
      "실제 최종 출력 건수 20\n",
      "\n",
      "\n",
      "크롤링 할 총 페이지 번호:  2\n",
      "================================================================================\n"
     ]
    }
   ],
   "source": [
    "# 시간을 계산하기 위해 현재 타임스탬프 찍기\n",
    "now1 = time.localtime()\n",
    "s1 = '%04d-%02d-%02d-%02d-%02d-%02d' % (now1.tm_year, now1.tm_mon, now1.tm_mday, now1.tm_hour, now1.tm_min, now1.tm_sec)\n",
    "\n",
    "# 소주제 2: 요청건수와 검색 건수 맞추어서 검색한 후 저장\n",
    "\n",
    "# Step 6\n",
    "# If 사용자 요청 건 수 > 실제 검색 건 수\n",
    "# 실제 검색 건 수로 리셋\n",
    "\n",
    "html = driver.page_source\n",
    "soup = BeautifulSoup(html, 'html.parser')\n",
    "\n",
    "result_cnt = soup.find('div', class_='total_check').find('span').get_text()\n",
    "\n",
    "search_cnt = int(re.sub(r'[^0-9]', '', result_cnt)) # 숫자만 추출\n",
    "\n",
    "if cnt > search_cnt :\n",
    "    cnt = search_cnt\n",
    "    \n",
    "print(\"전체 검색 결과 건수:\", search_cnt, \"건\")\n",
    "print(\"실제 최종 출력 건수\", cnt)\n",
    "\n",
    "print(\"\\n\")\n",
    "page_cnt = math.ceil(cnt / 10)\n",
    "print(\"크롤링 할 총 페이지 번호: \", page_cnt)\n",
    "print(\"=\" *80)"
   ]
  },
  {
   "cell_type": "code",
   "execution_count": 88,
   "id": "e57a0110",
   "metadata": {},
   "outputs": [
    {
     "name": "stdout",
     "output_type": "stream",
     "text": [
      "[<li class=\"bdr_nor\"><div class=\"photo\"><a href=\"javascript:\" onclick='goDetail(\"6fa9c2fb-f9ce-488b-ba3b-a10f924d86e6\",\"32\");'><img alt=\"박사마을 어린이 글램핑장\" src=\"https://cdn.visitkorea.or.kr/img/call?cmd=VIEW&amp;id=3f78aaf0-6fe7-46f4-a37a-56eb9217fc73&amp;thumb\"/></a></div><div class=\"area_txt\"> <div class=\"tit\"> <a href=\"javascript:\" onclick='goDetail(\"6fa9c2fb-f9ce-488b-ba3b-a10f924d86e6\",\"32\");'>박사마을 어린이 글램핑장</a> </div> <p>강원 춘천시</p> <p>033-240-1791</p> <p class=\"tag\"><span>#가족여행</span><span>#강원도</span><span>#강원도여행</span><span>#글램핑장</span><span>#레포츠</span><span>#춘천</span><span>#춘천글램핑</span> </p></div><button class=\"btn_view\" onclick='viewClick(\"6fa9c2fb-f9ce-488b-ba3b-a10f924d86e6\")' title=\"열기\" type=\"button\">더보기</button><div class=\"pop_subMenu\"> <ul> <li class=\"btn_far\"><a href=\"javascript:\" onclick='setFavoContent(\"6fa9c2fb-f9ce-488b-ba3b-a10f924d86e6\")'>즐겨찾기</a></li> <li class=\"btn_share\"><a href=\"javascript:\" onclick='getShareInfo(\"%EB%B0%95%EC%82%AC%EB%A7%88%EC%9D%84%20%EC%96%B4%EB%A6%B0%EC%9D%B4%20%EA%B8%80%EB%9E%A8%ED%95%91%EC%9E%A5\",\"3f78aaf0-6fe7-46f4-a37a-56eb9217fc73\",\"6fa9c2fb-f9ce-488b-ba3b-a10f924d86e6\",12);'>공유하기</a></li> <li class=\"btn_cart\"><a href=\"javascript:\" onclick='myCourseList(\"C\",\"12\",\"6fa9c2fb-f9ce-488b-ba3b-a10f924d86e6\",\"\")'>코스에 담기</a></li> </ul></div></li>, <li class=\"bdr_nor\"><div class=\"photo\"><a href=\"javascript:\" onclick='goDetail(\"610e195c-9148-4b8e-acb2-eeae1131cf6d\",\"6\");'><img alt=\"국이네  낙지볶음\" src=\"https://cdn.visitkorea.or.kr/img/call?cmd=VIEW&amp;id=undefined&amp;thumb\"/></a></div><div class=\"area_txt\"> <div class=\"tit\"> <a href=\"javascript:\" onclick='goDetail(\"610e195c-9148-4b8e-acb2-eeae1131cf6d\",\"6\");'>국이네  낙지볶음</a> </div> <p>부산 수영구</p> <p>051-754-7776</p> <p class=\"tag\"><span>#가성비맛집</span><span>#가족외식추천</span><span>#데이트코스</span><span>#음식</span> </p></div><button class=\"btn_view\" onclick='viewClick(\"610e195c-9148-4b8e-acb2-eeae1131cf6d\")' title=\"열기\" type=\"button\">더보기</button><div class=\"pop_subMenu\"> <ul> <li class=\"btn_far\"><a href=\"javascript:\" onclick='setFavoContent(\"610e195c-9148-4b8e-acb2-eeae1131cf6d\")'>즐겨찾기</a></li> <li class=\"btn_share\"><a href=\"javascript:\" onclick='getShareInfo(\"%EA%B5%AD%EC%9D%B4%EB%84%A4%20%20%EB%82%99%EC%A7%80%EB%B3%B6%EC%9D%8C\",\"undefined\",\"610e195c-9148-4b8e-acb2-eeae1131cf6d\",12);'>공유하기</a></li> <li class=\"btn_cart\"><a href=\"javascript:\" onclick='myCourseList(\"C\",\"12\",\"610e195c-9148-4b8e-acb2-eeae1131cf6d\",\"\")'>코스에 담기</a></li> </ul></div></li>, <li class=\"bdr_nor\"><div class=\"photo\"><a href=\"javascript:\" onclick='goDetail(\"095ea9db-13bf-440a-80fb-888d6592f9a2\",\"32\");'><img alt=\"베니키아 호텔 산과바다 양양\" src=\"https://cdn.visitkorea.or.kr/img/call?cmd=VIEW&amp;id=d63948cd-4cf6-48f1-afa1-90219fdf34ec&amp;thumb\"/></a></div><div class=\"area_txt\"> <div class=\"tit\"> <a href=\"javascript:\" onclick='goDetail(\"095ea9db-13bf-440a-80fb-888d6592f9a2\",\"32\");'>베니키아 호텔 산과바다 양양</a> </div> <p>강원 양양군</p> <p>033-673-3313</p> <p class=\"tag\"><span>#숙박</span> </p></div><button class=\"btn_view\" onclick='viewClick(\"095ea9db-13bf-440a-80fb-888d6592f9a2\")' title=\"열기\" type=\"button\">더보기</button><div class=\"pop_subMenu\"> <ul> <li class=\"btn_far\"><a href=\"javascript:\" onclick='setFavoContent(\"095ea9db-13bf-440a-80fb-888d6592f9a2\")'>즐겨찾기</a></li> <li class=\"btn_share\"><a href=\"javascript:\" onclick='getShareInfo(\"%EB%B2%A0%EB%8B%88%ED%82%A4%EC%95%84%20%ED%98%B8%ED%85%94%20%EC%82%B0%EA%B3%BC%EB%B0%94%EB%8B%A4%20%EC%96%91%EC%96%91\",\"d63948cd-4cf6-48f1-afa1-90219fdf34ec\",\"095ea9db-13bf-440a-80fb-888d6592f9a2\",12);'>공유하기</a></li> <li class=\"btn_cart\"><a href=\"javascript:\" onclick='myCourseList(\"C\",\"12\",\"095ea9db-13bf-440a-80fb-888d6592f9a2\",\"\")'>코스에 담기</a></li> </ul></div></li>, <li class=\"bdr_nor\"><div class=\"photo\"><a href=\"javascript:\" onclick='goDetail(\"12023645-c0a4-473a-855b-0fc0bc9dbddc\",\"32\");'><img alt=\"양양국제공항호텔\" src=\"https://cdn.visitkorea.or.kr/img/call?cmd=VIEW&amp;id=a4ae2818-8db0-4851-b52b-4e61db682155&amp;thumb\"/></a></div><div class=\"area_txt\"> <div class=\"tit\"> <a href=\"javascript:\" onclick='goDetail(\"12023645-c0a4-473a-855b-0fc0bc9dbddc\",\"32\");'>양양국제공항호텔</a> </div> <p>강원 양양군</p> <p>033-920-3000</p> <p class=\"tag\"><span>#숙박</span> </p></div><button class=\"btn_view\" onclick='viewClick(\"12023645-c0a4-473a-855b-0fc0bc9dbddc\")' title=\"열기\" type=\"button\">더보기</button><div class=\"pop_subMenu\"> <ul> <li class=\"btn_far\"><a href=\"javascript:\" onclick='setFavoContent(\"12023645-c0a4-473a-855b-0fc0bc9dbddc\")'>즐겨찾기</a></li> <li class=\"btn_share\"><a href=\"javascript:\" onclick='getShareInfo(\"%EC%96%91%EC%96%91%EA%B5%AD%EC%A0%9C%EA%B3%B5%ED%95%AD%ED%98%B8%ED%85%94\",\"a4ae2818-8db0-4851-b52b-4e61db682155\",\"12023645-c0a4-473a-855b-0fc0bc9dbddc\",12);'>공유하기</a></li> <li class=\"btn_cart\"><a href=\"javascript:\" onclick='myCourseList(\"C\",\"12\",\"12023645-c0a4-473a-855b-0fc0bc9dbddc\",\"\")'>코스에 담기</a></li> </ul></div></li>, <li class=\"bdr_nor\"><div class=\"photo\"><a href=\"javascript:\" onclick='goDetail(\"439326d8-8759-4a64-b08e-53596ea31598\",\"32\");'><img alt=\"효자동낭만골목\" src=\"https://cdn.visitkorea.or.kr/img/call?cmd=VIEW&amp;id=b89c02a6-71f3-41c4-92e7-b255316e4337&amp;thumb\"/></a></div><div class=\"area_txt\"> <div class=\"tit\"> <a href=\"javascript:\" onclick='goDetail(\"439326d8-8759-4a64-b08e-53596ea31598\",\"32\");'>효자동낭만골목</a> </div> <p>강원 춘천시</p> <p>033-250-3619</p> <p class=\"tag\"><span>#관광지</span> </p></div><button class=\"btn_view\" onclick='viewClick(\"439326d8-8759-4a64-b08e-53596ea31598\")' title=\"열기\" type=\"button\">더보기</button><div class=\"pop_subMenu\"> <ul> <li class=\"btn_far\"><a href=\"javascript:\" onclick='setFavoContent(\"439326d8-8759-4a64-b08e-53596ea31598\")'>즐겨찾기</a></li> <li class=\"btn_share\"><a href=\"javascript:\" onclick='getShareInfo(\"%ED%9A%A8%EC%9E%90%EB%8F%99%EB%82%AD%EB%A7%8C%EA%B3%A8%EB%AA%A9\",\"b89c02a6-71f3-41c4-92e7-b255316e4337\",\"439326d8-8759-4a64-b08e-53596ea31598\",12);'>공유하기</a></li> <li class=\"btn_cart\"><a href=\"javascript:\" onclick='myCourseList(\"C\",\"12\",\"439326d8-8759-4a64-b08e-53596ea31598\",\"\")'>코스에 담기</a></li> </ul></div></li>, <li class=\"bdr_nor\"><div class=\"photo\"><a href=\"javascript:\" onclick='goDetail(\"68b3e4f0-eeb2-489c-b5df-997a53d4a4d0\",\"32\");'><img alt=\"문우당서림\" src=\"https://cdn.visitkorea.or.kr/img/call?cmd=VIEW&amp;id=85955d24-59c7-4ec9-9e1e-00dd36503e9b&amp;thumb\"/></a></div><div class=\"area_txt\"> <div class=\"tit\"> <a href=\"javascript:\" onclick='goDetail(\"68b3e4f0-eeb2-489c-b5df-997a53d4a4d0\",\"32\");'>문우당서림</a> </div> <p>강원 속초시</p> <p>033-635-8055</p> <p class=\"tag\"><span>#문화시설</span> </p></div><button class=\"btn_view\" onclick='viewClick(\"68b3e4f0-eeb2-489c-b5df-997a53d4a4d0\")' title=\"열기\" type=\"button\">더보기</button><div class=\"pop_subMenu\"> <ul> <li class=\"btn_far\"><a href=\"javascript:\" onclick='setFavoContent(\"68b3e4f0-eeb2-489c-b5df-997a53d4a4d0\")'>즐겨찾기</a></li> <li class=\"btn_share\"><a href=\"javascript:\" onclick='getShareInfo(\"%EB%AC%B8%EC%9A%B0%EB%8B%B9%EC%84%9C%EB%A6%BC\",\"85955d24-59c7-4ec9-9e1e-00dd36503e9b\",\"68b3e4f0-eeb2-489c-b5df-997a53d4a4d0\",12);'>공유하기</a></li> <li class=\"btn_cart\"><a href=\"javascript:\" onclick='myCourseList(\"C\",\"12\",\"68b3e4f0-eeb2-489c-b5df-997a53d4a4d0\",\"\")'>코스에 담기</a></li> </ul></div></li>, <li class=\"bdr_nor\"><div class=\"photo\"><a href=\"javascript:\" onclick='goDetail(\"720ea6f5-fa09-4639-80d3-b6258879c279\",\"32\");'><img alt=\"낙산비치호텔\" src=\"https://cdn.visitkorea.or.kr/img/call?cmd=VIEW&amp;id=cab1af8f-56b1-430d-9f5c-0682fffb2177&amp;thumb\"/></a></div><div class=\"area_txt\"> <div class=\"tit\"> <a href=\"javascript:\" onclick='goDetail(\"720ea6f5-fa09-4639-80d3-b6258879c279\",\"32\");'>낙산비치호텔</a> </div> <p>강원 양양군</p> <p>033-673-0601</p> <p class=\"tag\"><span>#숙박</span> </p></div><button class=\"btn_view\" onclick='viewClick(\"720ea6f5-fa09-4639-80d3-b6258879c279\")' title=\"열기\" type=\"button\">더보기</button><div class=\"pop_subMenu\"> <ul> <li class=\"btn_far\"><a href=\"javascript:\" onclick='setFavoContent(\"720ea6f5-fa09-4639-80d3-b6258879c279\")'>즐겨찾기</a></li> <li class=\"btn_share\"><a href=\"javascript:\" onclick='getShareInfo(\"%EB%82%99%EC%82%B0%EB%B9%84%EC%B9%98%ED%98%B8%ED%85%94\",\"cab1af8f-56b1-430d-9f5c-0682fffb2177\",\"720ea6f5-fa09-4639-80d3-b6258879c279\",12);'>공유하기</a></li> <li class=\"btn_cart\"><a href=\"javascript:\" onclick='myCourseList(\"C\",\"12\",\"720ea6f5-fa09-4639-80d3-b6258879c279\",\"\")'>코스에 담기</a></li> </ul></div></li>, <li class=\"bdr_nor\"><div class=\"photo\"><a href=\"javascript:\" onclick='goDetail(\"0e7e96cd-d857-4563-9694-1736102f4f02\",\"38\");'><img alt=\"더 올리브\" src=\"https://cdn.visitkorea.or.kr/img/call?cmd=VIEW&amp;id=undefined&amp;thumb\"/></a></div><div class=\"area_txt\"> <div class=\"tit\"> <a href=\"javascript:\" onclick='goDetail(\"0e7e96cd-d857-4563-9694-1736102f4f02\",\"38\");'>더 올리브</a> </div> <p>전남 여수시</p> <p>061-691-0565</p> <p class=\"tag\"><span>#음식</span> </p></div><button class=\"btn_view\" onclick='viewClick(\"0e7e96cd-d857-4563-9694-1736102f4f02\")' title=\"열기\" type=\"button\">더보기</button><div class=\"pop_subMenu\"> <ul> <li class=\"btn_far\"><a href=\"javascript:\" onclick='setFavoContent(\"0e7e96cd-d857-4563-9694-1736102f4f02\")'>즐겨찾기</a></li> <li class=\"btn_share\"><a href=\"javascript:\" onclick='getShareInfo(\"%EB%8D%94%20%EC%98%AC%EB%A6%AC%EB%B8%8C\",\"undefined\",\"0e7e96cd-d857-4563-9694-1736102f4f02\",12);'>공유하기</a></li> <li class=\"btn_cart\"><a href=\"javascript:\" onclick='myCourseList(\"C\",\"12\",\"0e7e96cd-d857-4563-9694-1736102f4f02\",\"\")'>코스에 담기</a></li> </ul></div></li>, <li class=\"bdr_nor\"><div class=\"photo\"><a href=\"javascript:\" onclick='goDetail(\"15e7a26e-68f0-46d6-8aaf-a538935869d9\",\"1\");'><img alt=\"하오아\" src=\"https://cdn.visitkorea.or.kr/img/call?cmd=VIEW&amp;id=undefined&amp;thumb\"/></a></div><div class=\"area_txt\"> <div class=\"tit\"> <a href=\"javascript:\" onclick='goDetail(\"15e7a26e-68f0-46d6-8aaf-a538935869d9\",\"1\");'>하오아</a> </div> <p>서울 강서구</p> <p>02-3663-3330</p> <p class=\"tag\"><span>#음식</span> </p></div><button class=\"btn_view\" onclick='viewClick(\"15e7a26e-68f0-46d6-8aaf-a538935869d9\")' title=\"열기\" type=\"button\">더보기</button><div class=\"pop_subMenu\"> <ul> <li class=\"btn_far\"><a href=\"javascript:\" onclick='setFavoContent(\"15e7a26e-68f0-46d6-8aaf-a538935869d9\")'>즐겨찾기</a></li> <li class=\"btn_share\"><a href=\"javascript:\" onclick='getShareInfo(\"%ED%95%98%EC%98%A4%EC%95%84\",\"undefined\",\"15e7a26e-68f0-46d6-8aaf-a538935869d9\",12);'>공유하기</a></li> <li class=\"btn_cart\"><a href=\"javascript:\" onclick='myCourseList(\"C\",\"12\",\"15e7a26e-68f0-46d6-8aaf-a538935869d9\",\"\")'>코스에 담기</a></li> </ul></div></li>, <li class=\"bdr_nor\"><div class=\"photo\"><a href=\"javascript:\" onclick='goDetail(\"2bc041d8-db8d-48e1-bbff-12dbc5dd723c\",\"32\");'><img alt=\"바다정원\" src=\"https://cdn.visitkorea.or.kr/img/call?cmd=VIEW&amp;id=undefined&amp;thumb\"/></a></div><div class=\"area_txt\"> <div class=\"tit\"> <a href=\"javascript:\" onclick='goDetail(\"2bc041d8-db8d-48e1-bbff-12dbc5dd723c\",\"32\");'>바다정원</a> </div> <p>강원 고성군</p> <p>033-636-1096</p> <p class=\"tag\"><span>#음식</span> </p></div><button class=\"btn_view\" onclick='viewClick(\"2bc041d8-db8d-48e1-bbff-12dbc5dd723c\")' title=\"열기\" type=\"button\">더보기</button><div class=\"pop_subMenu\"> <ul> <li class=\"btn_far\"><a href=\"javascript:\" onclick='setFavoContent(\"2bc041d8-db8d-48e1-bbff-12dbc5dd723c\")'>즐겨찾기</a></li> <li class=\"btn_share\"><a href=\"javascript:\" onclick='getShareInfo(\"%EB%B0%94%EB%8B%A4%EC%A0%95%EC%9B%90\",\"undefined\",\"2bc041d8-db8d-48e1-bbff-12dbc5dd723c\",12);'>공유하기</a></li> <li class=\"btn_cart\"><a href=\"javascript:\" onclick='myCourseList(\"C\",\"12\",\"2bc041d8-db8d-48e1-bbff-12dbc5dd723c\",\"\")'>코스에 담기</a></li> </ul></div></li>]\n",
      "<div class=\"tit\"> <a href=\"javascript:\" onclick='goDetail(\"6fa9c2fb-f9ce-488b-ba3b-a10f924d86e6\",\"32\");'>박사마을 어린이 글램핑장</a> </div>\n",
      "<div class=\"tit\"> <a href=\"javascript:\" onclick='goDetail(\"610e195c-9148-4b8e-acb2-eeae1131cf6d\",\"6\");'>국이네  낙지볶음</a> </div>\n",
      "<div class=\"tit\"> <a href=\"javascript:\" onclick='goDetail(\"095ea9db-13bf-440a-80fb-888d6592f9a2\",\"32\");'>베니키아 호텔 산과바다 양양</a> </div>\n",
      "<div class=\"tit\"> <a href=\"javascript:\" onclick='goDetail(\"12023645-c0a4-473a-855b-0fc0bc9dbddc\",\"32\");'>양양국제공항호텔</a> </div>\n",
      "<div class=\"tit\"> <a href=\"javascript:\" onclick='goDetail(\"439326d8-8759-4a64-b08e-53596ea31598\",\"32\");'>효자동낭만골목</a> </div>\n",
      "<div class=\"tit\"> <a href=\"javascript:\" onclick='goDetail(\"68b3e4f0-eeb2-489c-b5df-997a53d4a4d0\",\"32\");'>문우당서림</a> </div>\n",
      "<div class=\"tit\"> <a href=\"javascript:\" onclick='goDetail(\"720ea6f5-fa09-4639-80d3-b6258879c279\",\"32\");'>낙산비치호텔</a> </div>\n",
      "<div class=\"tit\"> <a href=\"javascript:\" onclick='goDetail(\"0e7e96cd-d857-4563-9694-1736102f4f02\",\"38\");'>더 올리브</a> </div>\n",
      "<div class=\"tit\"> <a href=\"javascript:\" onclick='goDetail(\"15e7a26e-68f0-46d6-8aaf-a538935869d9\",\"1\");'>하오아</a> </div>\n",
      "<div class=\"tit\"> <a href=\"javascript:\" onclick='goDetail(\"2bc041d8-db8d-48e1-bbff-12dbc5dd723c\",\"32\");'>바다정원</a> </div>\n"
     ]
    }
   ],
   "source": [
    "# Step 8. 추출할 게시글의 목록 만들기\n",
    "\n",
    "item = []\n",
    "count = 0\n",
    "\n",
    "# find 제일 먼저나오는 태그를 한 건만 출력\n",
    "# find_all 여러 개의 태그를 한꺼번에 출력\n",
    "\n",
    "item_list = soup.find('ul', 'list_thumType flnon').find_all('li', 'bdr_nor')\n",
    "print(item_list)\n",
    "\n",
    "for i in item_list :\n",
    "    item_list_2 = i.find('div', 'area_txt').find('div', 'tit')\n",
    "    print(item_list_2)"
   ]
  },
  {
   "cell_type": "code",
   "execution_count": 89,
   "id": "d34d9947",
   "metadata": {},
   "outputs": [
    {
     "name": "stdout",
     "output_type": "stream",
     "text": [
      "1 페이지 내용 수집 시작합니다 ====================\n"
     ]
    },
    {
     "name": "stderr",
     "output_type": "stream",
     "text": [
      "C:\\Users\\7138y\\AppData\\Local\\Temp\\ipykernel_12436\\2872529437.py:17: DeprecationWarning: find_element_by_xpath is deprecated. Please use find_element(by=By.XPATH, value=xpath) instead\n",
      "  driver.find_element_by_xpath('''/html/body/div[2]/div[2]/div[1]/ul/li[%s]/div[2]/div/a'''% i).click()\n"
     ]
    },
    {
     "name": "stdout",
     "output_type": "stream",
     "text": [
      "1 :   ※ 코로나 19 확산방지를 위한 방역체계전환에 따른 부분 운영※ 내용 : 춘천시민에 한하여 부분운영 (20.06.15 ~ 미정)춘천시가 의암호 수변에 조성한 캠핑 시설로 글램핑장과 오토캠핑장을 갖췄다. 글램핑장은 일반형, 인디언형, 이글루형 등 아이들이 좋아할 만한 모양으로 만들고 모두 침대, 에어컨, TV, 취사도구를 완비했다. 캠핑 기분을 낼 수 있는 캠핑 의자와 캠핑 테이블도 비치했다. 오토캠핑장 경우 텐트 및 일체 장비를 이용객이 직접 준비해야 하며 전기 사용은 가능하다. 시설 내에는 아이들이 뛰놀기 좋은 잔디광장과 놀이터가 있고 도보 이동 가능한 거리에 애니메이션박물관, 토이로봇관, 춘천파크골프장이 위치한다. 글램핑장 바로 앞을 지나는 의암호자전거길을 따라 자전거를 타거나 산책을 즐겨도 좋다. 아이를 동반한 가족들이 자연 속에서 휴식하고 다양한 체험을 즐기며 알찬 시간을 보낼 수 있다.[주요시설&부대시설]글램핑장, 오토캠핑장(데크형, 잔디형)\n",
      "\n",
      "\n",
      "2 :   부산은 낙지볶음이 유명하며 신선한 재료와 낙곱새를 비롯한 싱싱한 산낙지볶음,연포탕 등을 하는 낙지전문점이다.\n",
      "\n",
      "\n",
      "3 :   강원도 양양의 정암해변 바로 앞에 자리해 전망이 좋은 호텔이다. 베니키아 호텔은 문화체육관광부와 한국관광공사가 개발한 중저가 관광호텔 브랜드로, 비교적 저렴한 가격에 양질의 숙소를 제공한다. 베니키아 호텔 산과바다 양양의 객실은 화려한 치장을 배제하고, 미색의 벽과 원목 마루로 깔끔히 단장했다. 더블, 트윈, 한실, 펜션, 로얄스위트 등 다양한 종류의 객실을 보유하고 있고, 한실을 제외한 나머지 방에는 안락한 침대가 놓여 있다. 5명이 묵기 좋은 펜션 객실에는 소파가 놓인 너른 거실이 딸려 있고, 6명이 묵을 수 있는 로얄스위트는 복층형이다. 숙소의 매력은 전 객실 테라스에서 바닷바람을 맞으며 동해를 한눈에 담을 수 있다는 것이다. 건물 1층에는 매점, 동해를 바라보며 조식을 먹을 수 있는 식당 등 편의 시설을 구비했다. 한 객실당 조식은 2명까지 무료로 이용할 수 있다. 낙산사, 낙산해수욕장, 속초 외옹치해변 등 양양과 속초의 대표 여행지로 접근하기 편리하다.\n",
      "\n",
      "\n",
      "4 :   양양국제공항과 양양고속시외버스터미널에서 각각 차로 5km 거리에 위치한 호텔이다. 동해대로 손양IC 가까이에 있어 조용하고 한적한 분위기다. 지하 1층, 지상 8층 규모의 호텔은 ‘내 집 같은 편안함’을 지향한다. 객실은 디럭스 더블, 디럭스 트리플, 디럭스 트윈, 패밀리 트윈 등 총 네 종류이고, 방 크기가 넓어 여유롭게 머물 수 있다. 객실당 조식은 2명까지 무료로 제공된다. 양양국제공항호텔의 또 다른 장점은 편의시설이 다양하다는 것이다. 무료 야외 바비큐장이 그 예다. 봄부터 늦가을까지 운영하는 야외 바비큐장에서 투숙객은 직접 재료를 준비해 바비큐를 즐길 수 있다. 바비큐 그릴과 숯은 호텔에서 대여해준다. 로비에 편의점과 카페는 물론, 한식당, 양식당, 뷔페 등 다양한 식당이 모여 있어 메뉴 선택의 폭이 넓다. 최대 250명까지 수용할 수 있는 컨퍼런스룸에서는 미팅, 세미나, 연회 등 다채로운 성격의 행사를 진행할 수 있다. 차로 10여 분 거리에 낙산해수욕장, 낙산사, 하조대 등 양양 대표 관광지가 모여 있다.\n",
      "\n",
      "\n",
      "5 :   춘천의 오래된 동네 효자동의 골목을 문화와 예술이 깃든 낭만골목으로 변신시켰다. 효자동은 조선 선조 때 소문난 효자였던 반희언의 이야기가 전해 내려오는 동네다. 아픈 노모를 위해 정성을 다한 그의 효행을 기리기 위해 효자문이 세워졌고 효자문이 있다 하여 효자거리로 불리다 효자동이 되었다. 노후화된 동네 재생을 위한 ‘낭만골목 프로젝트’가 진행될 때 효자동의 설화를 담아냈다. 반희언의 효행을 상징하는 조형물과 벽화를 골목 곳곳에서 찾아볼 수 있다. 그밖에도 아이들이 좋아하는 <구름빵> 캐릭터, 개성 넘치는 고양이 조형물 등 아기자기한 볼거리가 가득하다. 정겨운 골목길을 따라 걸으며 벽화와 조형물을 감상하는 재미가 쏠쏠하다. ‘담작은도서관’은 효자동 골목의 보물이다. 3층 규모의 어린이 전문 도서관으로 신발을 벗고 들어가는 구조다. 아이들이 마치 집에서처럼 편하게 앉아서 혹은 엎드려서 자유롭게 책을 읽는다. 오래된 동네와 딱 어울리는 따뜻함이 느껴진다.\n",
      "\n",
      "\n",
      "6 :   책과 사람의 공간을 지향하는 문우당서림은 속초 지역을 대표하는 서점 가운데 하나다. 1984년 문을 연 서점은 2003년 현재 위치로 이전한 후 개보수 작업을 거쳐 지금과 같은 모습이 되었다. 초창기에는 5평 남짓했던 작은 서점이었지만 지금은 규모가 약 250평에 이른다. 넓고 쾌적한 공간에는 효율적으로 배치된 서가마다 책들이 빼곡하게 꽂혀 있다. 이곳에서 취급하는 도서는 종류가 다양하다. 문학, 철학, 역사, 고전 같은 인문 서적은 물론 건강, 요리, 취미, 예술 등 여러 분야의 책들을 구비해 놓았다. 아동 도서와 학습지와 참고서 등 교육 도서들도 있다. 서점에 진열된 수많은 독립출판물들은 문우당서림이 지켜가고자 하는 가치를 되새기게 한다. 서점 안은 곳곳에 감성적인 소품들로 가득하다. 책 앞장에 끼운 손글씨로 쓴 도서 추천 편지나 종이에 좋은 글귀를 적어 전등갓처럼 활용한 아이디어도 참신하다. 문우당서림은 단순히 책만 파는 곳이 아니다. 서점 안에 지역 주민들의 소모임이나 문화 활동을 지원하는 스튜디오 공간을 운영하며 2층 창가 좌석에서도 글쓰기 모임 같은 다양한 활동이 이뤄진다.[주요시설&부대시설]서점\n",
      "\n",
      "\n",
      "7 :   앞에는 낙산항, 뒤에는 낙산사를 두어 고즈넉한 운치가 가득한 호텔이다. 숙소 건물이 높지 않아 주변의 산과 바다와 이질감 없이 어우러진다. 낙산비치호텔의 가장 큰 자랑은 객실에서 동해 일출은 물론, 강원도 양양의 관광명소인 낙산해변을 한눈에 내려다볼 수 있다는 점이다. 화이트&우드 톤의 객실은 차분하고 포근한 분위기를 풍긴다. 객실은 창밖의 풍경에 따라 산 전망 또는 바다 전망, 두 가지로 나뉘며, 침대 방과 온돌방을 고루 갖췄다. 스탠다드 더블·스탠다드 온돌·디럭스 더블 오션 뷰 등 객실 종류는 총 9가지로 선택의 폭이 넓다. 편의시설도 다양하다. 동해 바닷물을 끌어 올린 해수 사우나, 동해의 탁 트인 경관을 조망할 수 있는 하늘정원, 아침과 점심 식사를 제공하는 레스토랑, 아이들이 마음껏 뛰놀 수 있는 키즈룸, 노래방 기기와 게임기를 구비한 멀티룸 등 각종 편의시설을 갖춰 호텔을 벗어나지 않고도 쾌적하게 머물 수 있다.\n",
      "\n",
      "\n",
      "8 :   소호동 바다가 잘 보이는 3층에 위치한 레스토랑이다. 다양한 양식 메뉴가 있어 아이들과 함께 또는 데이트코스로도 좋다.\n",
      "\n",
      "\n",
      "9 :   동아3차아파트 상가 지하 1층에 위치한 중식당이다. 단품 메뉴도 맛있지만 합리적인 가격에 다양한 요리를 맛볼 수 있는 코스요리도 인기다. 코스요리는 3인부터 가능하다.\n",
      "\n",
      "\n",
      "10 :   바다정원은 바닷가 전망이 가장 좋은 카페 베이커리 레스토랑이다. 속초와 고성 경계선에 위치해 있다. 애견동반이 가능한 카페이며, 400여대 동시 주차가 가능한 곳이다. 바다를 비롯한 곳곳이 포토존이다.\n",
      "\n",
      "\n"
     ]
    },
    {
     "name": "stderr",
     "output_type": "stream",
     "text": [
      "C:\\Users\\7138y\\AppData\\Local\\Temp\\ipykernel_12436\\2872529437.py:49: DeprecationWarning: find_element_by_link_text is deprecated. Please use find_element(by=By.LINK_TEXT, value=link_text) instead\n",
      "  driver.find_element_by_link_text('''%s'''%click_cnt).click() # 다음 페이지번호 클릭\n"
     ]
    },
    {
     "name": "stdout",
     "output_type": "stream",
     "text": [
      "2 페이지 내용 수집 시작합니다 ====================\n",
      "11 :   외부의 고풍스러운 한옥의 멋스러움과 반면 내부는 상반된 서양적인 느낌의 베이커리이며 가족들과 함께 , 연인과 함께 데이트 코스로도 좋은 고급 베이커리 카페이다.\n",
      "\n",
      "\n",
      "12 :   이치 코퍼레이션에서 운영하는 파스타 바이다. 내부는 바 자리와 테이블 자리로 나누어져 있는데 바 자리에서는 생면으로 파스타를 만드는 과정을 볼 수 있다. 음식은 반드시 예약을 해야 맛볼 수 있다. 예약은 매월 1일과 16일이 되는 자정에 캐치테이블에 오픈된다. 캐치테이블을 통해서만 예약이 가능하여 경쟁이 치열하다.\n",
      "\n",
      "\n",
      "13 :   강원도 평창군 발왕산 기슭에 들어선 4성급 전통한옥호텔이다. 약 10만㎡ 부지에 한옥 단지 9개 동을 중심으로 박물관과 식당, 카페 등 다양한 부대시설을 갖췄다. 고려궁의 주 목재는 한국산 소나무인 금강송과 춘양목으로 조선 시대 사대부가에 쓰인 최고급 목재다. 발왕산 해발 900m에 자리한 호텔답게 모든 객실에서 솔향을 맡으며 산의 수려한 경관을 감상할 수 있다. 한옥 전문 회사들이 설계한 객실은 전통한옥의 골조와 내부의 현대적 시설이 조화를 이룬다. 방 1개와 거실, 욕실이 기본 구성이고, 객실에 따라 누마루, 대청마루, 여분의 방 등이 더해진다. 대부분의 객실에 편백나무 욕조가 구비되어 여행의 피로를 풀 수 있는 점도 반갑다. 전통 한식을 선보이는 레스토랑, 차와 한과를 곁들일 수 있는 카페, 4개의 대형 스크린이 설치된 컨퍼런스룸 등이 있어 편안히 머물 수 있다. 도자기, 민속화, 고서적 등 문화예술품을 전시한 박물관은 빼놓을 수 없는 볼거리다.\n",
      "\n",
      "\n",
      "14 :   제승당은 ''승리를 만드는 곳''이라는 뜻으로 이순신 장군의 집무실이었다. 이순신 장군의 사령부가 있던 곳으로 참모들과 전략, 전술, 작전을 협의하던 곳이다. 본래 이순신 장군이 가는 곳마다 기거하던 운주당이 있던 터였으나 1740년 비석을 세우고 제승당이라 이름하였다 전해진다. 이곳을 본거지로 당포해전, 한산도대첩에서 크게 승리하였다. 통영항 여객터미널에서 제승당으로 오는 배편은 오전 7시부터 오후 5시까지 매시 정각에 출항한다. 교과서에서 읽던 역사의 현장에서 이순신 장군과 휘하 참모들이 대면해야 했던 시간을 상상해 보며 한국인으로서의 자부심과 긍지를 새길 수 있는 곳이다.\n",
      "\n",
      "\n",
      "15 :   청초호수공원 근처에 위치한 오래된 조선소를 개조한 카페이다. 1952년부터 2017년까지 조선소로 운영되다가, 2018년에 카페로 개조되어 문을 열었다. 공간은 살롱, 뮤지엄, 플레이스케이프, 오픈 팩토리 네 개로 구성되어 있으며, 살롱이 카페 공간이다. 직접 로스팅한 커피 메뉴와 핫초코, 아이스크림, 에이드 등 음료 메뉴를 판매한다. 카페의 야외 테이블 부지가 청초호와 연결되어 있어 가족동반 방문객이 많은 편이다. 곳곳에는 옛 조선소의 흔적도 남아있다.\n",
      "\n",
      "\n",
      "16 :   차돌과 함께하여 더욱 얼큰하고 구수하며 진한 국물 맛을 볼수 있는 중식 전문점이다.\n",
      "\n",
      "\n",
      "17 :   사진작가 부부가 운영하는 아담한 식당이다. 여행을 다니며 경험했던 다양한 식재료와 맛을 토대로 요리를 연구한다. 그래서인지 해외여행에서 맛보던 조식 같은 느낌이 물씬 풍긴다.\n",
      "\n",
      "\n",
      "18 :   예술을 소재로  창의적인 순간을 제안하는 공간이며 전문 로스터리  사이폰 커피를 맛볼 수 있다.\n",
      "\n",
      "\n",
      "19 :   신선하고 건강한 22가지 토핑과 6가지 드레싱으로 만들어지는 다양한 종류의 샐러드를 만날 수 있다. 메뉴에 들어가는 토핑 재료를 추가하거나 변경하여 자신의 입맛에 맞게 변경할 수 있다. 한끼 식사로도 가능한 다양한 샐러드 외에도 샌드위치, 요거트 등의 든든한 메뉴들이 있다.\n",
      "\n",
      "\n",
      "20 :   강원도 양양군 현북면에 있는 암석해안으로 양양8경 중 하나다. 135,000㎡에 이르는 암석해안은 짙푸른 동해에 솟은 기암괴석과 바위섬으로 이루어져 있고, 주변 송림과 어우러져 경관이 빼어나다. 조선의 개국공신인 하륜과 조준이 고려 말, 이곳에서 은둔하며 혁명을 도모하여 두 사람의 성을 따 ‘하조대’라는 이름을 지었다고 전해진다. 해안절벽 위에 같은 이름의 정자가 자리한다. 조선 정종 때 처음 건립한 것을 시작으로 여러 번 중수를 거듭했고, 지금의 정자는 1998년에 양양군이 굴도리 양식의 육각정으로 복원한 것이다. 정자에서 바라보는 풍광은 아름답기로 유명하다. 특히 기암절벽 위 우뚝 솟은 노송은 과거 애국가 방송에 등장해 ‘애국송’이라고도 불린다. 하조대 정자에서 내려와 덱을 따라가면 흰색 무인 등대에 갈 수 있고, 인근의 하조대 둘레길과 하조대 전망대를 연계 관광할 수 있다. 하조대에서 북서쪽으로 1km 떨어진 거리에 하조대 해수욕장이 조성되어 있다. 수심이 1.5m 내외로 얕은 해수욕장이라 어린아이가 있는 가족이 물놀이를 하기에 좋다.[주요시설&부대시설]하조대[체험 프로그램]산책, 드라이브\n",
      "\n",
      "\n"
     ]
    }
   ],
   "source": [
    "# Step 9. 현제 페이지의 내용을 저장 목록을 만든 후 목록에 있는 내용을 파일에 저장\n",
    "\n",
    "no2 = [] # 게시물 번호 컬럼\n",
    "contents = [  ] # 게시글 내용 컬럼\n",
    "\n",
    "no = 1\n",
    "\n",
    "click_cnt = 1 # 현재 페이지 번호\n",
    "\n",
    "for x in range(1, page_cnt+1) :\n",
    "    print(\"%s 페이지 내용 수집 시작합니다 ====================\" %x)\n",
    "\n",
    "    for i in range(1,11):\n",
    "        if no > cnt :\n",
    "            break\n",
    "        \n",
    "        driver.find_element_by_xpath('''/html/body/div[2]/div[2]/div[1]/ul/li[%s]/div[2]/div/a'''% i).click()\n",
    "        time.sleep(2)\n",
    "    \n",
    "        # driver.find_element_by_xpath('''/html/body/div[3]/div[2]/div[5]/b/div[1]/div/div[2]/button''').click()\n",
    "        # time.sleep(2)\n",
    "    \n",
    "        html = driver.page_source\n",
    "        soup = BeautifulSoup(html, 'html.parser')\n",
    "\n",
    "        content_list = soup.find('div', 'wrap_contView')\n",
    "\n",
    "        content_top = content_list.find('div', 'area_txtView top ms_detail').find('div', 'inr_wrap').find('div', 'inr')\n",
    "        con_1 = content_top.find('p').get_text()\n",
    "        print(no , ':  ', con_1)\n",
    "\n",
    "        print(\"\\n\")\n",
    "        no2.append(no)\n",
    "        contents.append(con_1)\n",
    "\n",
    "        driver.back() # 게시물이 해당 화면에서 열리기 때문에 크롤링 후 이전 페이지로 돌아감\n",
    "        time.sleep(2)\n",
    "\n",
    "        no += 1\n",
    "\n",
    "    if click_cnt > page_cnt+1 :\n",
    "            break\n",
    "\n",
    "    click_cnt += 1\n",
    "\n",
    "    if (click_cnt % 5 == 0) : \n",
    "            driver.find_element_by_link_text(''' 다음''').click()\n",
    "    else :\n",
    "            driver.find_element_by_link_text('''%s'''%click_cnt).click() # 다음 페이지번호 클릭\n",
    "    time.sleep(2)"
   ]
  },
  {
   "cell_type": "code",
   "execution_count": 92,
   "id": "2167042e",
   "metadata": {},
   "outputs": [
    {
     "name": "stderr",
     "output_type": "stream",
     "text": [
      "C:\\Users\\7138y\\AppData\\Local\\Temp\\ipykernel_12436\\2955583635.py:16: FutureWarning: As the xlwt package is no longer maintained, the xlwt engine will be removed in a future version of pandas. This is the only engine in pandas that supports writing in the xls format. Install openpyxl and write to an xlsx file instead. You can set the option io.excel.xls.writer to 'xlwt' to silence this warning. While this option is deprecated and will also raise a warning, it can be globally set and the warning suppressed.\n",
      "  korea.to_excel(fx_name)\n"
     ]
    },
    {
     "name": "stdout",
     "output_type": "stream",
     "text": [
      "\n",
      "\n",
      "================================================================================\n",
      "총 소요시간은 201.8 초 입니다\n",
      "파일 저장 완료: txt 파일명 : C:\\Temp\\2022-03-04-18-09-14-대한민국구석구석\\2022-03-04-18-09-14-대한민국구석구석.txt \n",
      "파일 저장 완료: csv 파일명 : C:\\Temp\\2022-03-04-18-09-14-대한민국구석구석\\2022-03-04-18-09-14-대한민국구석구석.csv \n",
      "파일 저장 완료: xls 파일명 : C:\\Temp\\2022-03-04-18-09-14-대한민국구석구석\\2022-03-04-18-09-14-대한민국구석구석.xls \n"
     ]
    }
   ],
   "source": [
    "# Step 10. 출력 결과를 표(데이터 프레임) 형태로 만들기\n",
    "\n",
    "korea = pd.DataFrame()\n",
    "korea['번호'] = no2\n",
    "korea['내용'] = contents\n",
    "\n",
    "# txt 형식의 파일로 저장하기\n",
    "f = open(ff_name, 'a', encoding='UTF-8')\n",
    "f.write(str(contents))\n",
    "f.close()\n",
    "\n",
    "# csv 형태로 저장하기\n",
    "korea.to_csv(fc_name, encoding='utf-8-sig')\n",
    "\n",
    "# 엑셀 형태로 저장하기\n",
    "korea.to_excel(fx_name)\n",
    "\n",
    "e_time = time.time( ) # 검색이 종료된 시점의 timestamp 지정\n",
    "t_time = e_time - s_time\n",
    "\n",
    "print(\"\\n\")\n",
    "print(\"=\" *80)\n",
    "print(\"총 소요시간은 %s 초 입니다\" %round(t_time, 1))\n",
    "print(\"파일 저장 완료: txt 파일명 : %s \" %ff_name)\n",
    "print(\"파일 저장 완료: csv 파일명 : %s \" %fc_name)\n",
    "print(\"파일 저장 완료: xls 파일명 : %s \" %fx_name)\n",
    "\n",
    "driver.close()"
   ]
  }
 ],
 "metadata": {
  "kernelspec": {
   "display_name": "Python 3 (ipykernel)",
   "language": "python",
   "name": "python3"
  },
  "language_info": {
   "codemirror_mode": {
    "name": "ipython",
    "version": 3
   },
   "file_extension": ".py",
   "mimetype": "text/x-python",
   "name": "python",
   "nbconvert_exporter": "python",
   "pygments_lexer": "ipython3",
   "version": "3.10.2"
  }
 },
 "nbformat": 4,
 "nbformat_minor": 5
}
